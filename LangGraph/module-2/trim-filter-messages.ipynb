{
  "cells": [
    {
      "cell_type": "markdown",
      "id": "fb0ebaf1",
      "metadata": {
        "id": "fb0ebaf1"
      },
      "source": [
        "[![Open in Colab](https://colab.research.google.com/assets/colab-badge.svg)](https://colab.research.google.com/github/langchain-ai/langchain-academy/blob/main/module-2/trim-filter-messages.ipynb) [![Open in LangChain Academy](https://cdn.prod.website-files.com/65b8cd72835ceeacd4449a53/66e9eba12c7b7688aa3dbb5e_LCA-badge-green.svg)](https://academy.langchain.com/courses/take/intro-to-langgraph/lessons/58239435-lesson-4-trim-and-filter-messages)"
      ]
    },
    {
      "cell_type": "markdown",
      "id": "c52ea2f9-03ff-4647-b782-46867ebed04e",
      "metadata": {
        "id": "c52ea2f9-03ff-4647-b782-46867ebed04e"
      },
      "source": [
        "# Filtering and trimming messages\n",
        "\n",
        "## Review\n",
        "\n",
        "Now, we have a deeper understanding of a few things:\n",
        "\n",
        "* How to customize the graph state schema\n",
        "* How to define custom state reducers\n",
        "* How to use multiple graph state schemas\n",
        "\n",
        "## Goals\n",
        "\n",
        "Now, we can start using these concepts with models in LangGraph!\n",
        "\n",
        "In the next few sessions, we'll build towards a chatbot that has long-term memory.\n",
        "\n",
        "Because our chatbot will use messages, let's first talk a bit more about advanced ways to work with messages in graph state."
      ]
    },
    {
      "cell_type": "code",
      "execution_count": 1,
      "id": "d5197aba-5d46-421b-ae3b-4e3034edcfda",
      "metadata": {
        "id": "d5197aba-5d46-421b-ae3b-4e3034edcfda"
      },
      "outputs": [],
      "source": [
        "%%capture --no-stderr\n",
        "%pip install --quiet -U langchain_core langgraph langchain_openai"
      ]
    },
    {
      "cell_type": "code",
      "source": [
        "# Set up Langsmith Tracing\n",
        "import getpass\n",
        "import os\n",
        "\n",
        "# Get keys from \"https://smith.langchain.com/\" >> \"Tracing Projects\" >> \"LangGraph-Course\"\n",
        "os.environ[\"LANGCHAIN_API_KEY\"] = getpass.getpass(\"Enter your LANGCHAIN_API_KEY: \")\n",
        "os.environ[\"LANGSMITH_API_KEY\"] = getpass.getpass(\"Enter your LANGSMITH_API_KEY: \") # Add same\n",
        "os.environ[\"LANGSMITH_TRACING\"] = \"true\"\n",
        "os.environ[\"LANGCHAIN_TRACING_V2\"] = \"true\"\n",
        "os.environ[\"LANGCHAIN_ENDPOINT\"] = \"https://api.smith.langchain.com\"\n",
        "os.environ[\"LANGCHAIN_PROJECT\"] = \"LangGraph-Course\""
      ],
      "metadata": {
        "id": "XC5eE8dN0fQt",
        "outputId": "f01af7ed-9ecf-44bf-fb93-5238a6882818",
        "colab": {
          "base_uri": "https://localhost:8080/"
        }
      },
      "id": "XC5eE8dN0fQt",
      "execution_count": 2,
      "outputs": [
        {
          "name": "stdout",
          "output_type": "stream",
          "text": [
            "Enter your LANGCHAIN_API_KEY: ··········\n",
            "Enter your LANGSMITH_API_KEY: ··········\n"
          ]
        }
      ]
    },
    {
      "cell_type": "code",
      "execution_count": 4,
      "id": "768dc606-d5f2-468d-96ea-910b264e0f8a",
      "metadata": {
        "id": "768dc606-d5f2-468d-96ea-910b264e0f8a",
        "outputId": "0400ff3b-e0c3-49eb-959c-8ffc9dd0ca58",
        "colab": {
          "base_uri": "https://localhost:8080/"
        }
      },
      "outputs": [
        {
          "name": "stdout",
          "output_type": "stream",
          "text": [
            "Enter your AZURE_OPENAI_API_KEY: ··········\n",
            "Enter your AZURE_OPENAI_ENDPOINT: ··········\n"
          ]
        }
      ],
      "source": [
        "import os, getpass\n",
        "\n",
        "def _set_env(var: str):\n",
        "    if not os.environ.get(var):\n",
        "        os.environ[var] = getpass.getpass(f\"{var}: \")\n",
        "\n",
        "# _set_env(\"OPENAI_API_KEY\")\n",
        "os.environ[\"AZURE_OPENAI_API_KEY\"] = getpass.getpass(\"Enter your AZURE_OPENAI_API_KEY: \")\n",
        "os.environ[\"AZURE_OPENAI_ENDPOINT\"] = getpass.getpass(\"Enter your AZURE_OPENAI_ENDPOINT: \")"
      ]
    },
    {
      "cell_type": "markdown",
      "id": "8b64d8d3-e4ac-4961-bdc0-688825eb5864",
      "metadata": {
        "id": "8b64d8d3-e4ac-4961-bdc0-688825eb5864"
      },
      "source": [
        "We'll use [LangSmith](https://docs.smith.langchain.com/) for [tracing](https://docs.smith.langchain.com/concepts/tracing).\n",
        "\n",
        "We'll log to a project, `langchain-academy`."
      ]
    },
    {
      "cell_type": "code",
      "execution_count": 5,
      "id": "dd020c79",
      "metadata": {
        "id": "dd020c79"
      },
      "outputs": [],
      "source": [
        "# _set_env(\"LANGCHAIN_API_KEY\")\n",
        "# os.environ[\"LANGCHAIN_TRACING_V2\"] = \"true\"\n",
        "# os.environ[\"LANGCHAIN_PROJECT\"] = \"langchain-academy\""
      ]
    },
    {
      "cell_type": "markdown",
      "id": "72f3fc90-58b6-4f7f-897e-dddf6ae532c7",
      "metadata": {
        "id": "72f3fc90-58b6-4f7f-897e-dddf6ae532c7"
      },
      "source": [
        "## Messages as state\n",
        "\n",
        "First, let's define some messages."
      ]
    },
    {
      "cell_type": "code",
      "execution_count": 8,
      "id": "cf11a463-e27a-4a05-b41d-64882e38edca",
      "metadata": {
        "id": "cf11a463-e27a-4a05-b41d-64882e38edca",
        "outputId": "83063683-8e58-4a33-a3c3-4b6781a04521",
        "colab": {
          "base_uri": "https://localhost:8080/"
        }
      },
      "outputs": [
        {
          "output_type": "stream",
          "name": "stdout",
          "text": [
            "==================================\u001b[1m Ai Message \u001b[0m==================================\n",
            "Name: Bot\n",
            "\n",
            "So you said you were researching ocean mammals?\n",
            "================================\u001b[1m Human Message \u001b[0m=================================\n",
            "Name: Lance\n",
            "\n",
            "Yes, I know about whales. But what others should I learn about?\n"
          ]
        }
      ],
      "source": [
        "from pprint import pprint\n",
        "from langchain_core.messages import AIMessage, HumanMessage\n",
        "messages = [AIMessage(f\"So you said you were researching ocean mammals?\", name=\"Bot\")]\n",
        "messages.append(HumanMessage(f\"Yes, I know about whales. But what others should I learn about?\", name=\"Lance\"))\n",
        "\n",
        "for m in messages:\n",
        "    m.pretty_print()"
      ]
    },
    {
      "cell_type": "markdown",
      "id": "b814adcb-6bf9-4b75-be11-e59f933fbd0c",
      "metadata": {
        "id": "b814adcb-6bf9-4b75-be11-e59f933fbd0c"
      },
      "source": [
        "Recall we can pass them to a chat model."
      ]
    },
    {
      "cell_type": "code",
      "execution_count": 9,
      "id": "4712e288-e622-48a2-ad3f-a52f65f3ab08",
      "metadata": {
        "id": "4712e288-e622-48a2-ad3f-a52f65f3ab08",
        "outputId": "015a6049-e22b-40ff-ae29-236f8145e1d2",
        "colab": {
          "base_uri": "https://localhost:8080/"
        }
      },
      "outputs": [
        {
          "output_type": "execute_result",
          "data": {
            "text/plain": [
              "AIMessage(content='In addition to whales, there are several other ocean mammals you can learn about. Some of them include:\\n\\n1. Dolphins: Highly intelligent and social marine mammals, known for their playful behavior and acrobatic displays. There are over 40 species of dolphins, including the well-known bottlenose dolphin.\\n\\n2. Porpoises: Similar to dolphins but with a more rounded body shape and a shorter snout. There are seven species of porpoises, including the harbor porpoise and the vaquita.\\n\\n3. Manatees: Also known as sea cows, these gentle herbivores are found in warm coastal waters and rivers. There are three species of manatees: the West Indian manatee, the Amazonian manatee, and the African manatee.\\n\\n4. Dugongs: Closely related to manatees, dugongs are found in the warm coastal waters of the Indian and Pacific Oceans. They are the only strictly marine herbivorous mammal, feeding mainly on seagrass.\\n\\n5. Sea otters: These small marine mammals are found in the coastal waters of the North Pacific Ocean. They have thick fur to keep them warm in cold water and are known for their playful behavior and use of tools to crack open shellfish.\\n\\n6. Seals: There are two main groups of seals: true seals (or earless seals) and eared seals (which include sea lions and fur seals). They are found in various marine environments, from the Arctic and Antarctic to tropical waters.\\n\\n7. Walruses: These large marine mammals are found in the Arctic Ocean and are known for their long tusks and whiskers. They feed on a variety of organisms, including clams, snails, and even seals.\\n\\n8. Polar bears: Although they are not strictly marine mammals, polar bears rely heavily on the ocean for their survival, hunting seals and other marine mammals in the Arctic.\\n\\nThese are just a few examples of the diverse and fascinating ocean mammals you can learn about. Each species has unique adaptations and behaviors that make them well-suited to their marine environments.', additional_kwargs={'refusal': None}, response_metadata={'token_usage': {'completion_tokens': 426, 'prompt_tokens': 39, 'total_tokens': 465, 'completion_tokens_details': None, 'prompt_tokens_details': None}, 'model_name': 'gpt-4', 'system_fingerprint': None, 'finish_reason': 'stop', 'logprobs': None, 'content_filter_results': {}}, id='run-b51853f2-58ad-404a-b89c-715ce58033a0-0', usage_metadata={'input_tokens': 39, 'output_tokens': 426, 'total_tokens': 465, 'input_token_details': {}, 'output_token_details': {}})"
            ]
          },
          "metadata": {},
          "execution_count": 9
        }
      ],
      "source": [
        "# from langchain_openai import ChatOpenAI\n",
        "from langchain_openai import AzureChatOpenAI\n",
        "\n",
        "# llm = ChatOpenAI(model=\"gpt-4o\")\n",
        "\n",
        "llm = AzureChatOpenAI(\n",
        "    azure_deployment=\"gpt4-model\",  # or your deployment\n",
        "    api_version=\"2023-05-15\",  # or your api version\n",
        "    temperature=0,\n",
        "    max_tokens=None,\n",
        "    timeout=None,\n",
        "    max_retries=2,\n",
        "    # other params...\n",
        ")\n",
        "\n",
        "llm.invoke(messages)"
      ]
    },
    {
      "cell_type": "markdown",
      "id": "fbd1dab8-0af8-4621-8264-ce65065f76ec",
      "metadata": {
        "id": "fbd1dab8-0af8-4621-8264-ce65065f76ec"
      },
      "source": [
        "We can run our chat model in a simple graph with `MessagesState`."
      ]
    },
    {
      "cell_type": "code",
      "execution_count": 11,
      "id": "bbd8c39c-633b-4176-9cc6-8318e42bb5dd",
      "metadata": {
        "id": "bbd8c39c-633b-4176-9cc6-8318e42bb5dd",
        "outputId": "5038d1f7-8bd3-4af0-f28b-4ab512d54ba9",
        "colab": {
          "base_uri": "https://localhost:8080/",
          "height": 251
        }
      },
      "outputs": [
        {
          "output_type": "display_data",
          "data": {
            "image/png": "[encoded data removed]",
            "text/plain": [
              "<IPython.core.display.Image object>"
            ]
          },
          "metadata": {}
        }
      ],
      "source": [
        "from IPython.display import Image, display\n",
        "from langgraph.graph import MessagesState\n",
        "from langgraph.graph import StateGraph, START, END\n",
        "\n",
        "# Node\n",
        "def chat_model_node(state: MessagesState):\n",
        "    return {\"messages\": llm.invoke(state[\"messages\"])}\n",
        "\n",
        "# Build graph\n",
        "builder = StateGraph(MessagesState)\n",
        "builder.add_node(\"chat_model\", chat_model_node)\n",
        "builder.add_edge(START, \"chat_model\")\n",
        "builder.add_edge(\"chat_model\", END)\n",
        "graph = builder.compile()\n",
        "\n",
        "# View\n",
        "display(Image(graph.get_graph().draw_mermaid_png()))"
      ]
    },
    {
      "cell_type": "code",
      "execution_count": 12,
      "id": "3a5a3e4a-ccfd-4d14-81f1-f0de6e11a1e4",
      "metadata": {
        "id": "3a5a3e4a-ccfd-4d14-81f1-f0de6e11a1e4",
        "outputId": "1610b9c1-f31a-4e59-c5f8-46921d9b2350",
        "colab": {
          "base_uri": "https://localhost:8080/"
        }
      },
      "outputs": [
        {
          "output_type": "stream",
          "name": "stdout",
          "text": [
            "==================================\u001b[1m Ai Message \u001b[0m==================================\n",
            "Name: Bot\n",
            "\n",
            "So you said you were researching ocean mammals?\n",
            "================================\u001b[1m Human Message \u001b[0m=================================\n",
            "Name: Lance\n",
            "\n",
            "Yes, I know about whales. But what others should I learn about?\n",
            "==================================\u001b[1m Ai Message \u001b[0m==================================\n",
            "\n",
            "In addition to whales, there are several other ocean mammals you can learn about. Some of them include:\n",
            "\n",
            "1. Dolphins: Highly intelligent and social marine mammals, known for their playful behavior and acrobatic displays. There are over 40 species of dolphins, including the well-known bottlenose dolphin.\n",
            "\n",
            "2. Porpoises: Similar to dolphins but with a more rounded body shape and a shorter snout. There are seven species of porpoises, including the harbor porpoise and the vaquita.\n",
            "\n",
            "3. Manatees: Also known as sea cows, these gentle herbivores are found in warm coastal waters and rivers. There are three species of manatees: the West Indian manatee, the Amazonian manatee, and the African manatee.\n",
            "\n",
            "4. Dugongs: Closely related to manatees, dugongs are found in the warm coastal waters of the Indian and Pacific Oceans. They are the only strictly marine herbivorous mammal.\n",
            "\n",
            "5. Sea otters: These small marine mammals are found in the coastal waters of the North Pacific Ocean. They have thick fur to keep them warm and are known for their playful behavior and use of tools to crack open shellfish.\n",
            "\n",
            "6. Seals: There are two main groups of seals: true seals (or earless seals) and eared seals (which include sea lions and fur seals). They are found in various marine environments, from the Arctic to the Antarctic.\n",
            "\n",
            "7. Walruses: These large marine mammals are found in the Arctic Ocean and are known for their long tusks and whiskers. They primarily feed on mollusks and other invertebrates.\n",
            "\n",
            "These are just a few examples of the diverse ocean mammals you can explore in your research.\n"
          ]
        }
      ],
      "source": [
        "output = graph.invoke({'messages': messages})\n",
        "for m in output['messages']:\n",
        "    m.pretty_print()"
      ]
    },
    {
      "cell_type": "markdown",
      "id": "34c33e63-1ef4-412d-bb10-6a1b9e5b35a7",
      "metadata": {
        "id": "34c33e63-1ef4-412d-bb10-6a1b9e5b35a7"
      },
      "source": [
        "## Reducer\n",
        "\n",
        "A practical challenge when working with messages is managing long-running conversations.\n",
        "\n",
        "Long-running conversations result in high token usage and latency if we are not careful, because we pass a growing list of messages to the model.\n",
        "\n",
        "We have a few ways to address this.\n",
        "\n",
        "First, recall the trick we saw using `RemoveMessage` and the `add_messages` reducer."
      ]
    },
    {
      "cell_type": "code",
      "execution_count": 13,
      "id": "222c6bc5-bb0e-4a43-80f5-c8ec38d99f3a",
      "metadata": {
        "id": "222c6bc5-bb0e-4a43-80f5-c8ec38d99f3a",
        "outputId": "c78e95e5-e613-4016-8b15-0fd127a465ee",
        "colab": {
          "base_uri": "https://localhost:8080/",
          "height": 350
        }
      },
      "outputs": [
        {
          "output_type": "display_data",
          "data": {
            "image/png": "[encoded data removed]",
            "text/plain": [
              "<IPython.core.display.Image object>"
            ]
          },
          "metadata": {}
        }
      ],
      "source": [
        "from langchain_core.messages import RemoveMessage\n",
        "\n",
        "# Nodes\n",
        "def filter_messages(state: MessagesState):\n",
        "    # Delete all but the 2 most recent messages\n",
        "    delete_messages = [RemoveMessage(id=m.id) for m in state[\"messages\"][:-2]]\n",
        "    return {\"messages\": delete_messages}\n",
        "\n",
        "def chat_model_node(state: MessagesState):\n",
        "    return {\"messages\": [llm.invoke(state[\"messages\"])]}\n",
        "\n",
        "# Build graph\n",
        "builder = StateGraph(MessagesState)\n",
        "builder.add_node(\"filter\", filter_messages)\n",
        "builder.add_node(\"chat_model\", chat_model_node)\n",
        "builder.add_edge(START, \"filter\")\n",
        "builder.add_edge(\"filter\", \"chat_model\")\n",
        "builder.add_edge(\"chat_model\", END)\n",
        "graph = builder.compile()\n",
        "\n",
        "# View\n",
        "display(Image(graph.get_graph().draw_mermaid_png()))"
      ]
    },
    {
      "cell_type": "code",
      "execution_count": 30,
      "id": "95a7c2cc-54ce-43e7-9a90-abf37827d709",
      "metadata": {
        "id": "95a7c2cc-54ce-43e7-9a90-abf37827d709",
        "outputId": "b2e9d41b-5bab-4692-b4bf-7f4af1e4521d",
        "colab": {
          "base_uri": "https://localhost:8080/",
          "height": 365
        }
      },
      "outputs": [
        {
          "output_type": "error",
          "ename": "AttributeError",
          "evalue": "'list' object has no attribute 'split'",
          "traceback": [
            "\u001b[0;31m---------------------------------------------------------------------------\u001b[0m",
            "\u001b[0;31mAttributeError\u001b[0m                            Traceback (most recent call last)",
            "\u001b[0;32m<ipython-input-30-1eb76b6db12c>\u001b[0m in \u001b[0;36m<cell line: 8>\u001b[0;34m()\u001b[0m\n\u001b[1;32m      6\u001b[0m \u001b[0;34m\u001b[0m\u001b[0m\n\u001b[1;32m      7\u001b[0m \u001b[0;31m# Invoke\u001b[0m\u001b[0;34m\u001b[0m\u001b[0;34m\u001b[0m\u001b[0m\n\u001b[0;32m----> 8\u001b[0;31m \u001b[0moutput\u001b[0m \u001b[0;34m=\u001b[0m \u001b[0mgraph\u001b[0m\u001b[0;34m.\u001b[0m\u001b[0minvoke\u001b[0m\u001b[0;34m(\u001b[0m\u001b[0;34m{\u001b[0m\u001b[0;34m'messages'\u001b[0m\u001b[0;34m:\u001b[0m \u001b[0mmessages\u001b[0m\u001b[0;34m}\u001b[0m\u001b[0;34m)\u001b[0m\u001b[0;34m\u001b[0m\u001b[0;34m\u001b[0m\u001b[0m\n\u001b[0m\u001b[1;32m      9\u001b[0m \u001b[0;32mfor\u001b[0m \u001b[0mm\u001b[0m \u001b[0;32min\u001b[0m \u001b[0moutput\u001b[0m\u001b[0;34m[\u001b[0m\u001b[0;34m'messages'\u001b[0m\u001b[0;34m]\u001b[0m\u001b[0;34m:\u001b[0m\u001b[0;34m\u001b[0m\u001b[0;34m\u001b[0m\u001b[0m\n\u001b[1;32m     10\u001b[0m     \u001b[0mm\u001b[0m\u001b[0;34m.\u001b[0m\u001b[0mpretty_print\u001b[0m\u001b[0;34m(\u001b[0m\u001b[0;34m)\u001b[0m\u001b[0;34m\u001b[0m\u001b[0;34m\u001b[0m\u001b[0m\n",
            "\u001b[0;32m/usr/local/lib/python3.10/dist-packages/langgraph/pregel/__init__.py\u001b[0m in \u001b[0;36minvoke\u001b[0;34m(self, input, config, stream_mode, output_keys, interrupt_before, interrupt_after, debug, **kwargs)\u001b[0m\n\u001b[1;32m   1934\u001b[0m         \u001b[0;32melse\u001b[0m\u001b[0;34m:\u001b[0m\u001b[0;34m\u001b[0m\u001b[0;34m\u001b[0m\u001b[0m\n\u001b[1;32m   1935\u001b[0m             \u001b[0mchunks\u001b[0m \u001b[0;34m=\u001b[0m \u001b[0;34m[\u001b[0m\u001b[0;34m]\u001b[0m\u001b[0;34m\u001b[0m\u001b[0;34m\u001b[0m\u001b[0m\n\u001b[0;32m-> 1936\u001b[0;31m         for chunk in self.stream(\n\u001b[0m\u001b[1;32m   1937\u001b[0m             \u001b[0minput\u001b[0m\u001b[0;34m,\u001b[0m\u001b[0;34m\u001b[0m\u001b[0;34m\u001b[0m\u001b[0m\n\u001b[1;32m   1938\u001b[0m             \u001b[0mconfig\u001b[0m\u001b[0;34m,\u001b[0m\u001b[0;34m\u001b[0m\u001b[0;34m\u001b[0m\u001b[0m\n",
            "\u001b[0;32m/usr/local/lib/python3.10/dist-packages/langgraph/pregel/__init__.py\u001b[0m in \u001b[0;36mstream\u001b[0;34m(self, input, config, stream_mode, output_keys, interrupt_before, interrupt_after, debug, subgraphs)\u001b[0m\n\u001b[1;32m   1654\u001b[0m                 \u001b[0;31m# with channel updates applied only at the transition between steps\u001b[0m\u001b[0;34m\u001b[0m\u001b[0;34m\u001b[0m\u001b[0m\n\u001b[1;32m   1655\u001b[0m                 \u001b[0;32mwhile\u001b[0m \u001b[0mloop\u001b[0m\u001b[0;34m.\u001b[0m\u001b[0mtick\u001b[0m\u001b[0;34m(\u001b[0m\u001b[0minput_keys\u001b[0m\u001b[0;34m=\u001b[0m\u001b[0mself\u001b[0m\u001b[0;34m.\u001b[0m\u001b[0minput_channels\u001b[0m\u001b[0;34m)\u001b[0m\u001b[0;34m:\u001b[0m\u001b[0;34m\u001b[0m\u001b[0;34m\u001b[0m\u001b[0m\n\u001b[0;32m-> 1656\u001b[0;31m                     for _ in runner.tick(\n\u001b[0m\u001b[1;32m   1657\u001b[0m                         \u001b[0mloop\u001b[0m\u001b[0;34m.\u001b[0m\u001b[0mtasks\u001b[0m\u001b[0;34m.\u001b[0m\u001b[0mvalues\u001b[0m\u001b[0;34m(\u001b[0m\u001b[0;34m)\u001b[0m\u001b[0;34m,\u001b[0m\u001b[0;34m\u001b[0m\u001b[0;34m\u001b[0m\u001b[0m\n\u001b[1;32m   1658\u001b[0m                         \u001b[0mtimeout\u001b[0m\u001b[0;34m=\u001b[0m\u001b[0mself\u001b[0m\u001b[0;34m.\u001b[0m\u001b[0mstep_timeout\u001b[0m\u001b[0;34m,\u001b[0m\u001b[0;34m\u001b[0m\u001b[0;34m\u001b[0m\u001b[0m\n",
            "\u001b[0;32m/usr/local/lib/python3.10/dist-packages/langgraph/pregel/runner.py\u001b[0m in \u001b[0;36mtick\u001b[0;34m(self, tasks, reraise, timeout, retry_policy, get_waiter)\u001b[0m\n\u001b[1;32m    165\u001b[0m             \u001b[0mt\u001b[0m \u001b[0;34m=\u001b[0m \u001b[0mtasks\u001b[0m\u001b[0;34m[\u001b[0m\u001b[0;36m0\u001b[0m\u001b[0;34m]\u001b[0m\u001b[0;34m\u001b[0m\u001b[0;34m\u001b[0m\u001b[0m\n\u001b[1;32m    166\u001b[0m             \u001b[0;32mtry\u001b[0m\u001b[0;34m:\u001b[0m\u001b[0;34m\u001b[0m\u001b[0;34m\u001b[0m\u001b[0m\n\u001b[0;32m--> 167\u001b[0;31m                 run_with_retry(\n\u001b[0m\u001b[1;32m    168\u001b[0m                     \u001b[0mt\u001b[0m\u001b[0;34m,\u001b[0m\u001b[0;34m\u001b[0m\u001b[0;34m\u001b[0m\u001b[0m\n\u001b[1;32m    169\u001b[0m                     \u001b[0mretry_policy\u001b[0m\u001b[0;34m,\u001b[0m\u001b[0;34m\u001b[0m\u001b[0;34m\u001b[0m\u001b[0m\n",
            "\u001b[0;32m/usr/local/lib/python3.10/dist-packages/langgraph/pregel/retry.py\u001b[0m in \u001b[0;36mrun_with_retry\u001b[0;34m(task, retry_policy, configurable)\u001b[0m\n\u001b[1;32m     38\u001b[0m             \u001b[0mtask\u001b[0m\u001b[0;34m.\u001b[0m\u001b[0mwrites\u001b[0m\u001b[0;34m.\u001b[0m\u001b[0mclear\u001b[0m\u001b[0;34m(\u001b[0m\u001b[0;34m)\u001b[0m\u001b[0;34m\u001b[0m\u001b[0;34m\u001b[0m\u001b[0m\n\u001b[1;32m     39\u001b[0m             \u001b[0;31m# run the task\u001b[0m\u001b[0;34m\u001b[0m\u001b[0;34m\u001b[0m\u001b[0m\n\u001b[0;32m---> 40\u001b[0;31m             \u001b[0;32mreturn\u001b[0m \u001b[0mtask\u001b[0m\u001b[0;34m.\u001b[0m\u001b[0mproc\u001b[0m\u001b[0;34m.\u001b[0m\u001b[0minvoke\u001b[0m\u001b[0;34m(\u001b[0m\u001b[0mtask\u001b[0m\u001b[0;34m.\u001b[0m\u001b[0minput\u001b[0m\u001b[0;34m,\u001b[0m \u001b[0mconfig\u001b[0m\u001b[0;34m)\u001b[0m\u001b[0;34m\u001b[0m\u001b[0;34m\u001b[0m\u001b[0m\n\u001b[0m\u001b[1;32m     41\u001b[0m         \u001b[0;32mexcept\u001b[0m \u001b[0mParentCommand\u001b[0m \u001b[0;32mas\u001b[0m \u001b[0mexc\u001b[0m\u001b[0;34m:\u001b[0m\u001b[0;34m\u001b[0m\u001b[0;34m\u001b[0m\u001b[0m\n\u001b[1;32m     42\u001b[0m             \u001b[0mns\u001b[0m\u001b[0;34m:\u001b[0m \u001b[0mstr\u001b[0m \u001b[0;34m=\u001b[0m \u001b[0mconfig\u001b[0m\u001b[0;34m[\u001b[0m\u001b[0mCONF\u001b[0m\u001b[0;34m]\u001b[0m\u001b[0;34m[\u001b[0m\u001b[0mCONFIG_KEY_CHECKPOINT_NS\u001b[0m\u001b[0;34m]\u001b[0m\u001b[0;34m\u001b[0m\u001b[0;34m\u001b[0m\u001b[0m\n",
            "\u001b[0;32m/usr/local/lib/python3.10/dist-packages/langgraph/utils/runnable.py\u001b[0m in \u001b[0;36minvoke\u001b[0;34m(self, input, config, **kwargs)\u001b[0m\n\u001b[1;32m    406\u001b[0m                 )\n\u001b[1;32m    407\u001b[0m                 \u001b[0;32mif\u001b[0m \u001b[0mi\u001b[0m \u001b[0;34m==\u001b[0m \u001b[0;36m0\u001b[0m\u001b[0;34m:\u001b[0m\u001b[0;34m\u001b[0m\u001b[0;34m\u001b[0m\u001b[0m\n\u001b[0;32m--> 408\u001b[0;31m                     \u001b[0minput\u001b[0m \u001b[0;34m=\u001b[0m \u001b[0mstep\u001b[0m\u001b[0;34m.\u001b[0m\u001b[0minvoke\u001b[0m\u001b[0;34m(\u001b[0m\u001b[0minput\u001b[0m\u001b[0;34m,\u001b[0m \u001b[0mconfig\u001b[0m\u001b[0;34m,\u001b[0m \u001b[0;34m**\u001b[0m\u001b[0mkwargs\u001b[0m\u001b[0;34m)\u001b[0m\u001b[0;34m\u001b[0m\u001b[0;34m\u001b[0m\u001b[0m\n\u001b[0m\u001b[1;32m    409\u001b[0m                 \u001b[0;32melse\u001b[0m\u001b[0;34m:\u001b[0m\u001b[0;34m\u001b[0m\u001b[0;34m\u001b[0m\u001b[0m\n\u001b[1;32m    410\u001b[0m                     \u001b[0minput\u001b[0m \u001b[0;34m=\u001b[0m \u001b[0mstep\u001b[0m\u001b[0;34m.\u001b[0m\u001b[0minvoke\u001b[0m\u001b[0;34m(\u001b[0m\u001b[0minput\u001b[0m\u001b[0;34m,\u001b[0m \u001b[0mconfig\u001b[0m\u001b[0;34m)\u001b[0m\u001b[0;34m\u001b[0m\u001b[0;34m\u001b[0m\u001b[0m\n",
            "\u001b[0;32m/usr/local/lib/python3.10/dist-packages/langgraph/utils/runnable.py\u001b[0m in \u001b[0;36minvoke\u001b[0;34m(self, input, config, **kwargs)\u001b[0m\n\u001b[1;32m    182\u001b[0m         \u001b[0;32melse\u001b[0m\u001b[0;34m:\u001b[0m\u001b[0;34m\u001b[0m\u001b[0;34m\u001b[0m\u001b[0m\n\u001b[1;32m    183\u001b[0m             \u001b[0mcontext\u001b[0m\u001b[0;34m.\u001b[0m\u001b[0mrun\u001b[0m\u001b[0;34m(\u001b[0m\u001b[0m_set_config_context\u001b[0m\u001b[0;34m,\u001b[0m \u001b[0mconfig\u001b[0m\u001b[0;34m)\u001b[0m\u001b[0;34m\u001b[0m\u001b[0;34m\u001b[0m\u001b[0m\n\u001b[0;32m--> 184\u001b[0;31m             \u001b[0mret\u001b[0m \u001b[0;34m=\u001b[0m \u001b[0mcontext\u001b[0m\u001b[0;34m.\u001b[0m\u001b[0mrun\u001b[0m\u001b[0;34m(\u001b[0m\u001b[0mself\u001b[0m\u001b[0;34m.\u001b[0m\u001b[0mfunc\u001b[0m\u001b[0;34m,\u001b[0m \u001b[0minput\u001b[0m\u001b[0;34m,\u001b[0m \u001b[0;34m**\u001b[0m\u001b[0mkwargs\u001b[0m\u001b[0;34m)\u001b[0m\u001b[0;34m\u001b[0m\u001b[0;34m\u001b[0m\u001b[0m\n\u001b[0m\u001b[1;32m    185\u001b[0m         \u001b[0;32mif\u001b[0m \u001b[0misinstance\u001b[0m\u001b[0;34m(\u001b[0m\u001b[0mret\u001b[0m\u001b[0;34m,\u001b[0m \u001b[0mRunnable\u001b[0m\u001b[0;34m)\u001b[0m \u001b[0;32mand\u001b[0m \u001b[0mself\u001b[0m\u001b[0;34m.\u001b[0m\u001b[0mrecurse\u001b[0m\u001b[0;34m:\u001b[0m\u001b[0;34m\u001b[0m\u001b[0;34m\u001b[0m\u001b[0m\n\u001b[1;32m    186\u001b[0m             \u001b[0;32mreturn\u001b[0m \u001b[0mret\u001b[0m\u001b[0;34m.\u001b[0m\u001b[0minvoke\u001b[0m\u001b[0;34m(\u001b[0m\u001b[0minput\u001b[0m\u001b[0;34m,\u001b[0m \u001b[0mconfig\u001b[0m\u001b[0;34m)\u001b[0m\u001b[0;34m\u001b[0m\u001b[0;34m\u001b[0m\u001b[0m\n",
            "\u001b[0;32m<ipython-input-27-3173e224cb04>\u001b[0m in \u001b[0;36mchat_model_node\u001b[0;34m(state)\u001b[0m\n\u001b[1;32m      3\u001b[0m \u001b[0;31m# Node\u001b[0m\u001b[0;34m\u001b[0m\u001b[0;34m\u001b[0m\u001b[0m\n\u001b[1;32m      4\u001b[0m \u001b[0;32mdef\u001b[0m \u001b[0mchat_model_node\u001b[0m\u001b[0;34m(\u001b[0m\u001b[0mstate\u001b[0m\u001b[0;34m:\u001b[0m \u001b[0mMessagesState\u001b[0m\u001b[0;34m)\u001b[0m\u001b[0;34m:\u001b[0m\u001b[0;34m\u001b[0m\u001b[0;34m\u001b[0m\u001b[0m\n\u001b[0;32m----> 5\u001b[0;31m     messages = trim_messages(\n\u001b[0m\u001b[1;32m      6\u001b[0m             \u001b[0mstate\u001b[0m\u001b[0;34m[\u001b[0m\u001b[0;34m\"messages\"\u001b[0m\u001b[0;34m]\u001b[0m\u001b[0;34m,\u001b[0m\u001b[0;34m\u001b[0m\u001b[0;34m\u001b[0m\u001b[0m\n\u001b[1;32m      7\u001b[0m             \u001b[0mmax_tokens\u001b[0m\u001b[0;34m=\u001b[0m\u001b[0;36m100\u001b[0m\u001b[0;34m,\u001b[0m\u001b[0;34m\u001b[0m\u001b[0;34m\u001b[0m\u001b[0m\n",
            "\u001b[0;32m/usr/local/lib/python3.10/dist-packages/langchain_core/messages/utils.py\u001b[0m in \u001b[0;36mwrapped\u001b[0;34m(messages, **kwargs)\u001b[0m\n\u001b[1;32m    379\u001b[0m \u001b[0;34m\u001b[0m\u001b[0m\n\u001b[1;32m    380\u001b[0m         \u001b[0;32mif\u001b[0m \u001b[0mmessages\u001b[0m \u001b[0;32mis\u001b[0m \u001b[0;32mnot\u001b[0m \u001b[0;32mNone\u001b[0m\u001b[0;34m:\u001b[0m\u001b[0;34m\u001b[0m\u001b[0;34m\u001b[0m\u001b[0m\n\u001b[0;32m--> 381\u001b[0;31m             \u001b[0;32mreturn\u001b[0m \u001b[0mfunc\u001b[0m\u001b[0;34m(\u001b[0m\u001b[0mmessages\u001b[0m\u001b[0;34m,\u001b[0m \u001b[0;34m**\u001b[0m\u001b[0mkwargs\u001b[0m\u001b[0;34m)\u001b[0m\u001b[0;34m\u001b[0m\u001b[0;34m\u001b[0m\u001b[0m\n\u001b[0m\u001b[1;32m    382\u001b[0m         \u001b[0;32melse\u001b[0m\u001b[0;34m:\u001b[0m\u001b[0;34m\u001b[0m\u001b[0;34m\u001b[0m\u001b[0m\n\u001b[1;32m    383\u001b[0m             \u001b[0;32mreturn\u001b[0m \u001b[0mRunnableLambda\u001b[0m\u001b[0;34m(\u001b[0m\u001b[0mpartial\u001b[0m\u001b[0;34m(\u001b[0m\u001b[0mfunc\u001b[0m\u001b[0;34m,\u001b[0m \u001b[0;34m**\u001b[0m\u001b[0mkwargs\u001b[0m\u001b[0;34m)\u001b[0m\u001b[0;34m,\u001b[0m \u001b[0mname\u001b[0m\u001b[0;34m=\u001b[0m\u001b[0mfunc\u001b[0m\u001b[0;34m.\u001b[0m\u001b[0m__name__\u001b[0m\u001b[0;34m)\u001b[0m\u001b[0;34m\u001b[0m\u001b[0;34m\u001b[0m\u001b[0m\n",
            "\u001b[0;32m/usr/local/lib/python3.10/dist-packages/langchain_core/messages/utils.py\u001b[0m in \u001b[0;36mtrim_messages\u001b[0;34m(messages, max_tokens, token_counter, strategy, allow_partial, end_on, start_on, include_system, text_splitter)\u001b[0m\n\u001b[1;32m    867\u001b[0m         )\n\u001b[1;32m    868\u001b[0m     \u001b[0;32melif\u001b[0m \u001b[0mstrategy\u001b[0m \u001b[0;34m==\u001b[0m \u001b[0;34m\"last\"\u001b[0m\u001b[0;34m:\u001b[0m\u001b[0;34m\u001b[0m\u001b[0;34m\u001b[0m\u001b[0m\n\u001b[0;32m--> 869\u001b[0;31m         return _last_max_tokens(\n\u001b[0m\u001b[1;32m    870\u001b[0m             \u001b[0mmessages\u001b[0m\u001b[0;34m,\u001b[0m\u001b[0;34m\u001b[0m\u001b[0;34m\u001b[0m\u001b[0m\n\u001b[1;32m    871\u001b[0m             \u001b[0mmax_tokens\u001b[0m\u001b[0;34m=\u001b[0m\u001b[0mmax_tokens\u001b[0m\u001b[0;34m,\u001b[0m\u001b[0;34m\u001b[0m\u001b[0;34m\u001b[0m\u001b[0m\n",
            "\u001b[0;32m/usr/local/lib/python3.10/dist-packages/langchain_core/messages/utils.py\u001b[0m in \u001b[0;36m_last_max_tokens\u001b[0;34m(messages, max_tokens, token_counter, text_splitter, allow_partial, include_system, start_on, end_on)\u001b[0m\n\u001b[1;32m   1303\u001b[0m     \u001b[0mreversed_\u001b[0m \u001b[0;34m=\u001b[0m \u001b[0mmessages\u001b[0m\u001b[0;34m[\u001b[0m\u001b[0;34m:\u001b[0m\u001b[0;36m1\u001b[0m\u001b[0;34m]\u001b[0m \u001b[0;34m+\u001b[0m \u001b[0mmessages\u001b[0m\u001b[0;34m[\u001b[0m\u001b[0;36m1\u001b[0m\u001b[0;34m:\u001b[0m\u001b[0;34m]\u001b[0m\u001b[0;34m[\u001b[0m\u001b[0;34m:\u001b[0m\u001b[0;34m:\u001b[0m\u001b[0;34m-\u001b[0m\u001b[0;36m1\u001b[0m\u001b[0;34m]\u001b[0m \u001b[0;32mif\u001b[0m \u001b[0mswapped_system\u001b[0m \u001b[0;32melse\u001b[0m \u001b[0mmessages\u001b[0m\u001b[0;34m[\u001b[0m\u001b[0;34m:\u001b[0m\u001b[0;34m:\u001b[0m\u001b[0;34m-\u001b[0m\u001b[0;36m1\u001b[0m\u001b[0;34m]\u001b[0m\u001b[0;34m\u001b[0m\u001b[0;34m\u001b[0m\u001b[0m\n\u001b[1;32m   1304\u001b[0m \u001b[0;34m\u001b[0m\u001b[0m\n\u001b[0;32m-> 1305\u001b[0;31m     reversed_ = _first_max_tokens(\n\u001b[0m\u001b[1;32m   1306\u001b[0m         \u001b[0mreversed_\u001b[0m\u001b[0;34m,\u001b[0m\u001b[0;34m\u001b[0m\u001b[0;34m\u001b[0m\u001b[0m\n\u001b[1;32m   1307\u001b[0m         \u001b[0mmax_tokens\u001b[0m\u001b[0;34m=\u001b[0m\u001b[0mmax_tokens\u001b[0m\u001b[0;34m,\u001b[0m\u001b[0;34m\u001b[0m\u001b[0;34m\u001b[0m\u001b[0m\n",
            "\u001b[0;32m/usr/local/lib/python3.10/dist-packages/langchain_core/messages/utils.py\u001b[0m in \u001b[0;36m_first_max_tokens\u001b[0;34m(messages, max_tokens, token_counter, text_splitter, partial_strategy, end_on)\u001b[0m\n\u001b[1;32m   1220\u001b[0m     \u001b[0midx\u001b[0m \u001b[0;34m=\u001b[0m \u001b[0;36m0\u001b[0m\u001b[0;34m\u001b[0m\u001b[0;34m\u001b[0m\u001b[0m\n\u001b[1;32m   1221\u001b[0m     \u001b[0;32mfor\u001b[0m \u001b[0mi\u001b[0m \u001b[0;32min\u001b[0m \u001b[0mrange\u001b[0m\u001b[0;34m(\u001b[0m\u001b[0mlen\u001b[0m\u001b[0;34m(\u001b[0m\u001b[0mmessages\u001b[0m\u001b[0;34m)\u001b[0m\u001b[0;34m)\u001b[0m\u001b[0;34m:\u001b[0m\u001b[0;34m\u001b[0m\u001b[0;34m\u001b[0m\u001b[0m\n\u001b[0;32m-> 1222\u001b[0;31m         \u001b[0;32mif\u001b[0m \u001b[0mtoken_counter\u001b[0m\u001b[0;34m(\u001b[0m\u001b[0mmessages\u001b[0m\u001b[0;34m[\u001b[0m\u001b[0;34m:\u001b[0m\u001b[0;34m-\u001b[0m\u001b[0mi\u001b[0m\u001b[0;34m]\u001b[0m \u001b[0;32mif\u001b[0m \u001b[0mi\u001b[0m \u001b[0;32melse\u001b[0m \u001b[0mmessages\u001b[0m\u001b[0;34m)\u001b[0m \u001b[0;34m<=\u001b[0m \u001b[0mmax_tokens\u001b[0m\u001b[0;34m:\u001b[0m\u001b[0;34m\u001b[0m\u001b[0;34m\u001b[0m\u001b[0m\n\u001b[0m\u001b[1;32m   1223\u001b[0m             \u001b[0midx\u001b[0m \u001b[0;34m=\u001b[0m \u001b[0mlen\u001b[0m\u001b[0;34m(\u001b[0m\u001b[0mmessages\u001b[0m\u001b[0;34m)\u001b[0m \u001b[0;34m-\u001b[0m \u001b[0mi\u001b[0m\u001b[0;34m\u001b[0m\u001b[0;34m\u001b[0m\u001b[0m\n\u001b[1;32m   1224\u001b[0m             \u001b[0;32mbreak\u001b[0m\u001b[0;34m\u001b[0m\u001b[0;34m\u001b[0m\u001b[0m\n",
            "\u001b[0;32m<ipython-input-27-3173e224cb04>\u001b[0m in \u001b[0;36m<lambda>\u001b[0;34m(x)\u001b[0m\n\u001b[1;32m      8\u001b[0m             \u001b[0mstrategy\u001b[0m\u001b[0;34m=\u001b[0m\u001b[0;34m\"last\"\u001b[0m\u001b[0;34m,\u001b[0m\u001b[0;34m\u001b[0m\u001b[0;34m\u001b[0m\u001b[0m\n\u001b[1;32m      9\u001b[0m             \u001b[0;31m# token_counter=ChatOpenAI(model=\"gpt-4o\"),\u001b[0m\u001b[0;34m\u001b[0m\u001b[0;34m\u001b[0m\u001b[0m\n\u001b[0;32m---> 10\u001b[0;31m             \u001b[0mtoken_counter\u001b[0m\u001b[0;34m=\u001b[0m\u001b[0;32mlambda\u001b[0m \u001b[0mx\u001b[0m\u001b[0;34m:\u001b[0m \u001b[0mlen\u001b[0m\u001b[0;34m(\u001b[0m\u001b[0mx\u001b[0m\u001b[0;34m.\u001b[0m\u001b[0msplit\u001b[0m\u001b[0;34m(\u001b[0m\u001b[0;34m)\u001b[0m\u001b[0;34m)\u001b[0m\u001b[0;34m,\u001b[0m\u001b[0;34m\u001b[0m\u001b[0;34m\u001b[0m\u001b[0m\n\u001b[0m\u001b[1;32m     11\u001b[0m             \u001b[0mallow_partial\u001b[0m\u001b[0;34m=\u001b[0m\u001b[0;32mFalse\u001b[0m\u001b[0;34m,\u001b[0m\u001b[0;34m\u001b[0m\u001b[0;34m\u001b[0m\u001b[0m\n\u001b[1;32m     12\u001b[0m         )\n",
            "\u001b[0;31mAttributeError\u001b[0m: 'list' object has no attribute 'split'"
          ]
        }
      ],
      "source": [
        "# Message list with a preamble\n",
        "messages = [AIMessage(\"Hi.\", name=\"Bot\", id=\"1\")]\n",
        "messages.append(HumanMessage(\"Hi.\", name=\"Lance\", id=\"2\"))\n",
        "messages.append(AIMessage(\"So you said you were researching ocean mammals?\", name=\"Bot\", id=\"3\"))\n",
        "messages.append(HumanMessage(\"Yes, I know about whales. But what others should I learn about?\", name=\"Lance\", id=\"4\"))\n",
        "\n",
        "# Invoke\n",
        "output = graph.invoke({'messages': messages})\n",
        "for m in output['messages']:\n",
        "    m.pretty_print()"
      ]
    },
    {
      "cell_type": "markdown",
      "id": "f506457d-014b-4fee-a684-e5edfb4b8f0d",
      "metadata": {
        "id": "f506457d-014b-4fee-a684-e5edfb4b8f0d"
      },
      "source": [
        "## Filtering messages\n",
        "\n",
        "If you don't need or want to modify the graph state, you can just filter the messages you pass to the chat model.\n",
        "\n",
        "For example, just pass in a filtered list: `llm.invoke(messages[-1:])` to the model."
      ]
    },
    {
      "cell_type": "code",
      "execution_count": 31,
      "id": "22d0b904-7cd6-486b-8948-105bee3d4683",
      "metadata": {
        "id": "22d0b904-7cd6-486b-8948-105bee3d4683",
        "outputId": "31c97cd7-1711-405a-bebb-e1aa0894914d",
        "colab": {
          "base_uri": "https://localhost:8080/",
          "height": 251
        }
      },
      "outputs": [
        {
          "output_type": "display_data",
          "data": {
            "image/png": "[encoded data removed]",
            "text/plain": [
              "<IPython.core.display.Image object>"
            ]
          },
          "metadata": {}
        }
      ],
      "source": [
        "# Node\n",
        "def chat_model_node(state: MessagesState):\n",
        "    return {\"messages\": [llm.invoke(state[\"messages\"][-1:])]}\n",
        "\n",
        "# Build graph\n",
        "builder = StateGraph(MessagesState)\n",
        "builder.add_node(\"chat_model\", chat_model_node)\n",
        "builder.add_edge(START, \"chat_model\")\n",
        "builder.add_edge(\"chat_model\", END)\n",
        "graph = builder.compile()\n",
        "\n",
        "# View\n",
        "display(Image(graph.get_graph().draw_mermaid_png()))"
      ]
    },
    {
      "cell_type": "markdown",
      "id": "6f58c6fc-532f-418d-b70a-cfcb3307daf5",
      "metadata": {
        "id": "6f58c6fc-532f-418d-b70a-cfcb3307daf5"
      },
      "source": [
        "Let's take our existing list of messages, append the above LLM response, and append a follow-up question."
      ]
    },
    {
      "cell_type": "code",
      "execution_count": 32,
      "id": "16956015-1dbe-4108-89b5-4209b68b51ca",
      "metadata": {
        "id": "16956015-1dbe-4108-89b5-4209b68b51ca"
      },
      "outputs": [],
      "source": [
        "messages.append(output['messages'][-1])\n",
        "messages.append(HumanMessage(f\"Tell me more about Narwhals!\", name=\"Lance\"))"
      ]
    },
    {
      "cell_type": "code",
      "execution_count": 33,
      "id": "85563415-c085-46a8-a4ac-155df798c54e",
      "metadata": {
        "id": "85563415-c085-46a8-a4ac-155df798c54e",
        "outputId": "bb9f8a6b-d29a-4879-8e56-06c504ee7aed",
        "colab": {
          "base_uri": "https://localhost:8080/"
        }
      },
      "outputs": [
        {
          "output_type": "stream",
          "name": "stdout",
          "text": [
            "==================================\u001b[1m Ai Message \u001b[0m==================================\n",
            "Name: Bot\n",
            "\n",
            "Hi.\n",
            "================================\u001b[1m Human Message \u001b[0m=================================\n",
            "Name: Lance\n",
            "\n",
            "Hi.\n",
            "==================================\u001b[1m Ai Message \u001b[0m==================================\n",
            "Name: Bot\n",
            "\n",
            "So you said you were researching ocean mammals?\n",
            "================================\u001b[1m Human Message \u001b[0m=================================\n",
            "Name: Lance\n",
            "\n",
            "Yes, I know about whales. But what others should I learn about?\n",
            "==================================\u001b[1m Ai Message \u001b[0m==================================\n",
            "\n",
            "Narwhals, also known as Monodon monoceros, are medium-sized toothed whales that belong to the Monodontidae family. They are found primarily in the Arctic waters around Greenland, Canada, and Russia. Narwhals are known for their distinct long, spiral tusks, which are actually elongated canine teeth that can grow up to 10 feet (3 meters) in length. These tusks are more commonly found in males, while only about 15% of females have them.\n",
            "\n",
            "Narwhals are medium-sized whales, measuring about 13-18 feet (4-5.5 meters) in length, excluding the tusk, and weighing around 1.5 tons (1,361 kilograms). They have a rounded head, a short snout, and a small dorsal fin. Their bodies are mottled gray in color, with white patches on the underside.\n",
            "\n",
            "These whales are social animals, typically found in groups called pods, which can range from a few individuals to several hundred. They communicate with each other using a variety of clicks, whistles, and body movements.\n",
            "\n",
            "Narwhals primarily feed on fish, squid, and shrimp, diving to depths of up to 4,900 feet (1,500 meters) to find food. They are known to be deep divers, with some dives lasting up to 25 minutes.\n",
            "\n",
            "The exact purpose of the narwhal's tusk is still not fully understood, but it is believed to have multiple functions. Some theories suggest that it is used for mating displays, as a sensory organ to detect changes in water temperature or pressure, or even as a tool to break through ice.\n",
            "\n",
            "Narwhals have a relatively low reproductive rate, with females giving birth to a single calf every three years on average. The gestation period lasts for about 14-15 months, and calves are usually born between June and August.\n",
            "\n",
            "Climate change and the resulting loss of sea ice pose significant threats to narwhals, as they rely on the ice for protection from predators and as a platform for resting. Additionally, increased human activities in the Arctic, such as shipping and oil exploration, can lead to habitat disturbance and potential harm to these unique creatures. Narwhals are currently listed as \"Near Threatened\" on the IUCN Red List of Threatened Species.\n",
            "================================\u001b[1m Human Message \u001b[0m=================================\n",
            "Name: Lance\n",
            "\n",
            "Tell me more about Narwhals!\n"
          ]
        }
      ],
      "source": [
        "for m in messages:\n",
        "    m.pretty_print()"
      ]
    },
    {
      "cell_type": "code",
      "execution_count": 34,
      "id": "23349705-a059-47b5-9760-d8f64e687393",
      "metadata": {
        "id": "23349705-a059-47b5-9760-d8f64e687393",
        "outputId": "5552c4c9-9721-415b-8dea-9b1c9e604a8d",
        "colab": {
          "base_uri": "https://localhost:8080/"
        }
      },
      "outputs": [
        {
          "output_type": "stream",
          "name": "stdout",
          "text": [
            "==================================\u001b[1m Ai Message \u001b[0m==================================\n",
            "Name: Bot\n",
            "\n",
            "Hi.\n",
            "================================\u001b[1m Human Message \u001b[0m=================================\n",
            "Name: Lance\n",
            "\n",
            "Hi.\n",
            "==================================\u001b[1m Ai Message \u001b[0m==================================\n",
            "Name: Bot\n",
            "\n",
            "So you said you were researching ocean mammals?\n",
            "================================\u001b[1m Human Message \u001b[0m=================================\n",
            "Name: Lance\n",
            "\n",
            "Yes, I know about whales. But what others should I learn about?\n",
            "==================================\u001b[1m Ai Message \u001b[0m==================================\n",
            "\n",
            "Narwhals, also known as Monodon monoceros, are medium-sized toothed whales that belong to the Monodontidae family. They are found primarily in the Arctic waters around Greenland, Canada, and Russia. Narwhals are known for their distinct long, spiral tusks, which are actually elongated canine teeth that can grow up to 10 feet (3 meters) in length. These tusks are more commonly found in males, while only about 15% of females have them.\n",
            "\n",
            "Narwhals are medium-sized whales, measuring about 13-18 feet (4-5.5 meters) in length, excluding the tusk, and weighing around 1.5 tons (1,361 kilograms). They have a rounded head, a short snout, and a small dorsal fin. Their bodies are mottled gray in color, with white patches on the underside.\n",
            "\n",
            "These whales are social animals, typically found in groups called pods, which can range from a few individuals to several hundred. They communicate with each other using a variety of clicks, whistles, and body movements.\n",
            "\n",
            "Narwhals primarily feed on fish, squid, and shrimp, diving to depths of up to 4,900 feet (1,500 meters) to find food. They are known to be deep divers, with some dives lasting up to 25 minutes.\n",
            "\n",
            "The exact purpose of the narwhal's tusk is still not fully understood, but it is believed to have multiple functions. Some theories suggest that it is used for mating displays, as a sensory organ to detect changes in water temperature or pressure, or even as a tool to break through ice.\n",
            "\n",
            "Narwhals have a relatively low reproductive rate, with females giving birth to a single calf every three years on average. The gestation period lasts for about 14-15 months, and calves are usually born between June and August.\n",
            "\n",
            "Climate change and the resulting loss of sea ice pose significant threats to narwhals, as they rely on the ice for protection from predators and as a platform for resting. Additionally, increased human activities in the Arctic, such as shipping and oil exploration, can lead to habitat disturbance and potential harm to these unique creatures. Narwhals are currently listed as \"Near Threatened\" on the IUCN Red List of Threatened Species.\n",
            "================================\u001b[1m Human Message \u001b[0m=================================\n",
            "Name: Lance\n",
            "\n",
            "Tell me more about Narwhals!\n",
            "==================================\u001b[1m Ai Message \u001b[0m==================================\n",
            "\n",
            "Narwhals, also known as Monodon monoceros, are medium-sized toothed whales that belong to the Monodontidae family. They are found primarily in the Arctic waters around Greenland, Canada, and Russia. Narwhals are known for their distinct long, spiral tusks, which are actually elongated canine teeth that can grow up to 10 feet (3 meters) in length. These tusks are more commonly found in males, while only about 15% of females have them.\n",
            "\n",
            "Narwhals are medium-sized whales, measuring about 13-18 feet (4-5.5 meters) in length, excluding the tusk, and weighing around 1.5 tons (1,361 kilograms). They have a rounded head, a short snout, and a small dorsal fin. Their bodies are mottled gray in color, with white patches on the underside.\n",
            "\n",
            "These whales are social animals, typically found in groups called pods, which can range from a few individuals to several hundred. They communicate with each other using a variety of clicks, whistles, and body movements.\n",
            "\n",
            "Narwhals primarily feed on fish, squid, and shrimp, diving to depths of up to 4,900 feet (1,500 meters) to find their prey. They are known to be deep divers, with some dives lasting up to 25 minutes.\n",
            "\n",
            "The exact purpose of the narwhal's tusk is still a subject of debate among scientists. Some believe it is used for mating displays, while others think it may be used for breaking ice or sensing their environment. Recent research has shown that the tusk is filled with nerve endings, suggesting that it may have a sensory function.\n",
            "\n",
            "Narwhals have a relatively low reproductive rate, with females giving birth to a single calf every three years on average. The gestation period lasts for about 14-15 months, and calves are usually born between June and August.\n",
            "\n",
            "Narwhals face several threats, including climate change, which is causing a reduction in their sea ice habitat. They are also at risk from hunting by indigenous communities for their meat, skin, and tusks, as well as from entanglement in fishing gear and noise pollution from increased shipping traffic in the Arctic.\n",
            "\n",
            "Despite these threats, the current population of narwhals is estimated to be around 80,000 individuals, and they are classified as \"Least Concern\" on the IUCN Red List of Threatened Species. However, continued monitoring and conservation efforts are necessary to ensure the survival of these unique and fascinating creatures.\n"
          ]
        }
      ],
      "source": [
        "# Invoke, using message filtering\n",
        "output = graph.invoke({'messages': messages})\n",
        "for m in output['messages']:\n",
        "    m.pretty_print()"
      ]
    },
    {
      "cell_type": "markdown",
      "id": "42e1d8d2-e297-4d78-b54c-d12b3c866745",
      "metadata": {
        "id": "42e1d8d2-e297-4d78-b54c-d12b3c866745"
      },
      "source": [
        "The state has all of the mesages.\n",
        "\n",
        "But, let's look at the LangSmith trace to see that the model invocation only uses the last message:\n",
        "\n",
        "https://smith.langchain.com/public/75aca3ce-ef19-4b92-94be-0178c7a660d9/r"
      ]
    },
    {
      "cell_type": "markdown",
      "id": "fc40d930-3c1f-47fe-8d2a-ce174873353c",
      "metadata": {
        "id": "fc40d930-3c1f-47fe-8d2a-ce174873353c"
      },
      "source": [
        "## Trim messages\n",
        "\n",
        "Another approach is to [trim messages](https://python.langchain.com/v0.2/docs/how_to/trim_messages/#getting-the-last-max_tokens-tokens), based upon a set number of tokens.\n",
        "\n",
        "This restricts the message history to a specified number of tokens.\n",
        "\n",
        "While filtering only returns a post-hoc subset of the messages between agents, trimming restricts the number of tokens that a chat model can use to respond.\n",
        "\n",
        "See the `trim_messages` below."
      ]
    },
    {
      "cell_type": "code",
      "execution_count": 39,
      "id": "2ff99b81-cf03-4cc2-b44f-44829a73e1fd",
      "metadata": {
        "id": "2ff99b81-cf03-4cc2-b44f-44829a73e1fd",
        "outputId": "c85f96c1-c517-4bbe-a284-855961c33223",
        "colab": {
          "base_uri": "https://localhost:8080/",
          "height": 251
        }
      },
      "outputs": [
        {
          "output_type": "display_data",
          "data": {
            "image/png": "[encoded data removed]",
            "text/plain": [
              "<IPython.core.display.Image object>"
            ]
          },
          "metadata": {}
        }
      ],
      "source": [
        "from langchain_core.messages import trim_messages\n",
        "\n",
        "def get_token_len(messages):\n",
        "    \"\"\"Dummy token counter function\"\"\"\n",
        "    token_count = 0\n",
        "    for messages in messages:\n",
        "        token_count += len(messages.content.split())\n",
        "    return token_count\n",
        "\n",
        "\n",
        "# Node\n",
        "def chat_model_node(state: MessagesState):\n",
        "    messages = trim_messages(\n",
        "            state[\"messages\"],\n",
        "            max_tokens=100,\n",
        "            strategy=\"last\",\n",
        "            # token_counter=ChatOpenAI(model=\"gpt-4o\"),\n",
        "            token_counter=get_token_len,\n",
        "            allow_partial=False,\n",
        "        )\n",
        "    return {\"messages\": [llm.invoke(messages)]}\n",
        "\n",
        "# Build graph\n",
        "builder = StateGraph(MessagesState)\n",
        "builder.add_node(\"chat_model\", chat_model_node)\n",
        "builder.add_edge(START, \"chat_model\")\n",
        "builder.add_edge(\"chat_model\", END)\n",
        "graph = builder.compile()\n",
        "\n",
        "# View\n",
        "display(Image(graph.get_graph().draw_mermaid_png()))"
      ]
    },
    {
      "cell_type": "code",
      "execution_count": 40,
      "id": "24df63ac-da29-4874-b3df-7e390e97cc8a",
      "metadata": {
        "id": "24df63ac-da29-4874-b3df-7e390e97cc8a"
      },
      "outputs": [],
      "source": [
        "messages.append(output['messages'][-1])\n",
        "messages.append(HumanMessage(f\"Tell me where Orcas live!\", name=\"Lance\"))"
      ]
    },
    {
      "cell_type": "code",
      "execution_count": 41,
      "id": "6d9d8971-c75c-43ca-a209-eb1d07b2ead0",
      "metadata": {
        "id": "6d9d8971-c75c-43ca-a209-eb1d07b2ead0",
        "outputId": "47be06c7-2254-40ef-a28b-5af3d0c758c6",
        "colab": {
          "base_uri": "https://localhost:8080/"
        }
      },
      "outputs": [
        {
          "output_type": "execute_result",
          "data": {
            "text/plain": [
              "[HumanMessage(content='Tell me where Orcas live!', additional_kwargs={}, response_metadata={}, name='Lance')]"
            ]
          },
          "metadata": {},
          "execution_count": 41
        }
      ],
      "source": [
        "# Example of trimming messages\n",
        "\n",
        "trim_messages(\n",
        "            messages,\n",
        "            max_tokens=100,\n",
        "            strategy=\"last\",\n",
        "            # token_counter=ChatOpenAI(model=\"gpt-4o\"),\n",
        "            token_counter=get_token_len,\n",
        "            allow_partial=False\n",
        "        )"
      ]
    },
    {
      "cell_type": "code",
      "execution_count": 43,
      "id": "ed70a269-a869-4fa0-a1df-29736a432c51",
      "metadata": {
        "id": "ed70a269-a869-4fa0-a1df-29736a432c51",
        "outputId": "4fecbc41-31ac-4da7-ebfb-d1b2dec973b9",
        "colab": {
          "base_uri": "https://localhost:8080/"
        }
      },
      "outputs": [
        {
          "output_type": "execute_result",
          "data": {
            "text/plain": [
              "{'messages': [AIMessage(content='Hi.', additional_kwargs={}, response_metadata={}, name='Bot', id='1'),\n",
              "  HumanMessage(content='Hi.', additional_kwargs={}, response_metadata={}, name='Lance', id='2'),\n",
              "  AIMessage(content='So you said you were researching ocean mammals?', additional_kwargs={}, response_metadata={}, name='Bot', id='3'),\n",
              "  HumanMessage(content='Yes, I know about whales. But what others should I learn about?', additional_kwargs={}, response_metadata={}, name='Lance', id='4'),\n",
              "  AIMessage(content='Narwhals, also known as Monodon monoceros, are medium-sized toothed whales that belong to the Monodontidae family. They are found primarily in the Arctic waters around Greenland, Canada, and Russia. Narwhals are known for their distinct long, spiral tusks, which are actually elongated canine teeth that can grow up to 10 feet (3 meters) in length. These tusks are more commonly found in males, while only about 15% of females have them.\\n\\nNarwhals are medium-sized whales, measuring about 13-18 feet (4-5.5 meters) in length, excluding the tusk, and weighing around 1.5 tons (1,361 kilograms). They have a rounded head, a short snout, and a small dorsal fin. Their bodies are mottled gray in color, with white patches on the underside.\\n\\nThese whales are social animals, typically found in groups called pods, which can range from a few individuals to several hundred. They communicate with each other using a variety of clicks, whistles, and body movements.\\n\\nNarwhals primarily feed on fish, squid, and shrimp, diving to depths of up to 4,900 feet (1,500 meters) to find food. They are known to be deep divers, with some dives lasting up to 25 minutes.\\n\\nThe exact purpose of the narwhal\\'s tusk is still not fully understood, but it is believed to have multiple functions. Some theories suggest that it is used for mating displays, as a sensory organ to detect changes in water temperature or pressure, or even as a tool to break through ice.\\n\\nNarwhals have a relatively low reproductive rate, with females giving birth to a single calf every three years on average. The gestation period lasts for about 14-15 months, and calves are usually born between June and August.\\n\\nClimate change and the resulting loss of sea ice pose significant threats to narwhals, as they rely on the ice for protection from predators and as a platform for resting. Additionally, increased human activities in the Arctic, such as shipping and oil exploration, can lead to habitat disturbance and potential harm to these unique creatures. Narwhals are currently listed as \"Near Threatened\" on the IUCN Red List of Threatened Species.', additional_kwargs={'refusal': None}, response_metadata={'token_usage': {'completion_tokens': 472, 'prompt_tokens': 17, 'total_tokens': 489, 'completion_tokens_details': None, 'prompt_tokens_details': None}, 'model_name': 'gpt-4', 'system_fingerprint': None, 'finish_reason': 'stop', 'logprobs': None, 'content_filter_results': {}}, id='run-a0a5e1b2-85de-4467-825f-6c8a3e1bc01b-0', usage_metadata={'input_tokens': 17, 'output_tokens': 472, 'total_tokens': 489, 'input_token_details': {}, 'output_token_details': {}}),\n",
              "  HumanMessage(content='Tell me more about Narwhals!', additional_kwargs={}, response_metadata={}, name='Lance', id='b6513961-4efd-4ece-aeb7-6629d0a8f69f'),\n",
              "  AIMessage(content='Narwhals, also known as Monodon monoceros, are medium-sized toothed whales that belong to the Monodontidae family. They are found primarily in the Arctic waters around Greenland, Canada, and Russia. Narwhals are known for their distinct long, spiral tusks, which are actually elongated canine teeth that can grow up to 10 feet (3 meters) in length. These tusks are more commonly found in males, while only about 15% of females have them.\\n\\nNarwhals are medium-sized whales, measuring about 13-18 feet (4-5.5 meters) in length, excluding the tusk, and weighing around 1.5 tons (1,361 kilograms). They have a rounded head, a short snout, and a small dorsal fin. Their bodies are mottled gray in color, with white patches on the underside.\\n\\nThese whales are social animals, typically found in groups called pods, which can range from a few individuals to several hundred. They communicate with each other using a variety of clicks, whistles, and body movements.\\n\\nNarwhals primarily feed on fish, squid, and shrimp, diving to depths of up to 4,900 feet (1,500 meters) to find their prey. They are known to be deep divers, with some dives lasting up to 25 minutes.\\n\\nThe exact purpose of the narwhal\\'s tusk is still a subject of debate among scientists. Some believe it is used for mating displays, while others think it may be used for breaking ice or sensing their environment. Recent research has shown that the tusk is filled with nerve endings, suggesting that it may have a sensory function.\\n\\nNarwhals have a relatively low reproductive rate, with females giving birth to a single calf every three years on average. The gestation period lasts for about 14-15 months, and calves are usually born between June and August.\\n\\nNarwhals face several threats, including climate change, which is causing a reduction in their sea ice habitat. They are also at risk from hunting by indigenous communities for their meat, skin, and tusks, as well as from entanglement in fishing gear and noise pollution from increased shipping traffic in the Arctic.\\n\\nDespite these threats, the current population of narwhals is estimated to be around 80,000 individuals, and they are classified as \"Least Concern\" on the IUCN Red List of Threatened Species. However, continued monitoring and conservation efforts are necessary to ensure the survival of these unique and fascinating creatures.', additional_kwargs={'refusal': None}, response_metadata={'token_usage': {'completion_tokens': 520, 'prompt_tokens': 17, 'total_tokens': 537, 'completion_tokens_details': None, 'prompt_tokens_details': None}, 'model_name': 'gpt-4', 'system_fingerprint': None, 'finish_reason': 'stop', 'logprobs': None, 'content_filter_results': {}}, id='run-bc86176b-32d0-42aa-a7ce-edf73ea43ad3-0', usage_metadata={'input_tokens': 17, 'output_tokens': 520, 'total_tokens': 537, 'input_token_details': {}, 'output_token_details': {}}),\n",
              "  HumanMessage(content='Tell me where Orcas live!', additional_kwargs={}, response_metadata={}, name='Lance', id='99601fcc-7005-474c-9521-a0fcd73a5f5e'),\n",
              "  AIMessage(content='Narwhals, also known as Monodon monoceros, are medium-sized toothed whales that belong to the Monodontidae family. They are found primarily in the Arctic waters around Greenland, Canada, and Russia. Narwhals are known for their distinct long, spiral tusks, which are actually elongated canine teeth that can grow up to 10 feet (3 meters) in length. These tusks are more commonly found in males, while only about 15% of females have them.\\n\\nNarwhals are medium-sized whales, measuring about 13-18 feet (4-5.5 meters) in length, excluding the tusk, and weighing around 1.5 tons (1,361 kilograms). They have a rounded head, a short snout, and a small dorsal fin. Their bodies are mottled gray in color, with white patches on the underside.\\n\\nThese whales are social animals, typically found in groups called pods, which can range from a few individuals to several hundred. They communicate with each other using a variety of clicks, whistles, and body movements.\\n\\nNarwhals primarily feed on fish, squid, and shrimp, diving to depths of up to 4,900 feet (1,500 meters) to find their prey. They are known to be deep divers, with some dives lasting up to 25 minutes.\\n\\nThe exact purpose of the narwhal\\'s tusk is still a subject of debate among scientists. Some believe it is used for mating displays, while others think it may be used for breaking ice or sensing their environment. Recent research has shown that the tusk is filled with nerve endings, suggesting that it may have a sensory function.\\n\\nNarwhals have a relatively low reproductive rate, with females giving birth to a single calf every three years on average. The gestation period lasts for about 14-15 months, and calves are usually born between June and August.\\n\\nNarwhals face several threats, including climate change, which is causing a reduction in their sea ice habitat. They are also at risk from hunting by indigenous communities for their meat, skin, and tusks, as well as from entanglement in fishing gear and noise pollution from increased shipping traffic in the Arctic.\\n\\nDespite these threats, the current population of narwhals is estimated to be around 80,000 individuals, and they are classified as \"Least Concern\" on the IUCN Red List of Threatened Species. However, continued monitoring and conservation efforts are necessary to ensure the survival of these unique and fascinating creatures.', additional_kwargs={'refusal': None}, response_metadata={'token_usage': {'completion_tokens': 520, 'prompt_tokens': 17, 'total_tokens': 537, 'completion_tokens_details': None, 'prompt_tokens_details': None}, 'model_name': 'gpt-4', 'system_fingerprint': None, 'finish_reason': 'stop', 'logprobs': None, 'content_filter_results': {}}, id='run-bc86176b-32d0-42aa-a7ce-edf73ea43ad3-0', usage_metadata={'input_tokens': 17, 'output_tokens': 520, 'total_tokens': 537, 'input_token_details': {}, 'output_token_details': {}}),\n",
              "  HumanMessage(content='Tell me where Orcas live!', additional_kwargs={}, response_metadata={}, name='Lance', id='eda85a5f-747f-48ef-89a5-92df5977f3df'),\n",
              "  AIMessage(content='Orcas, also known as killer whales, are found in oceans all around the world. They are most commonly found in colder waters, such as the Arctic and Antarctic regions, but they can also be found in temperate and tropical waters. Some populations of orcas are known to inhabit specific regions, such as the Pacific Northwest, Norway, and New Zealand. They are highly adaptable and can be found in a variety of marine environments, including coastal waters, open oceans, and even semi-enclosed seas.', additional_kwargs={'refusal': None}, response_metadata={'token_usage': {'completion_tokens': 103, 'prompt_tokens': 16, 'total_tokens': 119, 'completion_tokens_details': None, 'prompt_tokens_details': None}, 'model_name': 'gpt-4', 'system_fingerprint': None, 'finish_reason': 'stop', 'logprobs': None, 'content_filter_results': {}}, id='run-add5fa7e-1668-4734-9fe8-38df78f8c46a-0', usage_metadata={'input_tokens': 16, 'output_tokens': 103, 'total_tokens': 119, 'input_token_details': {}, 'output_token_details': {}})]}"
            ]
          },
          "metadata": {},
          "execution_count": 43
        }
      ],
      "source": [
        "# Invoke, using message trimming in the chat_model_node\n",
        "messages_out_trim = graph.invoke({'messages': messages})\n",
        "messages_out_trim"
      ]
    },
    {
      "cell_type": "markdown",
      "id": "38b3db67-380e-46b5-9a6a-20100ba52008",
      "metadata": {
        "id": "38b3db67-380e-46b5-9a6a-20100ba52008"
      },
      "source": [
        "Let's look at the LangSmith trace to see the model invocation:\n",
        "\n",
        "https://smith.langchain.com/public/b153f7e9-f1a5-4d60-8074-f0d7ab5b42ef/r"
      ]
    }
  ],
  "metadata": {
    "kernelspec": {
      "display_name": "Python 3 (ipykernel)",
      "language": "python",
      "name": "python3"
    },
    "language_info": {
      "codemirror_mode": {
        "name": "ipython",
        "version": 3
      },
      "file_extension": ".py",
      "mimetype": "text/x-python",
      "name": "python",
      "nbconvert_exporter": "python",
      "pygments_lexer": "ipython3",
      "version": "3.12.1"
    },
    "colab": {
      "provenance": []
    }
  },
  "nbformat": 4,
  "nbformat_minor": 5
}